{
 "cells": [
  {
   "cell_type": "markdown",
   "metadata": {},
   "source": [
    "Assignment is based on: http://neuralnetworksanddeeplearning.com/chap1.html <br\\>\n",
    "Code is taken from: https://github.com/MichalDanielDobrzanski/DeepLearningPython35"
   ]
  },
  {
   "cell_type": "markdown",
   "metadata": {},
   "source": [
    "# Assignment 7 - Propose Your Own Assignment: Handwriting Detection"
   ]
  },
  {
   "cell_type": "markdown",
   "metadata": {},
   "source": [
    "## Part A - Abstract"
   ]
  },
  {
   "cell_type": "code",
   "execution_count": null,
   "metadata": {
    "collapsed": true
   },
   "outputs": [],
   "source": []
  },
  {
   "cell_type": "markdown",
   "metadata": {},
   "source": [
    "## Part B - Code Analysis"
   ]
  },
  {
   "cell_type": "markdown",
   "metadata": {},
   "source": [
    "Here we will investigate each section of code that creates this neural network and interpret its meaning and utility."
   ]
  },
  {
   "cell_type": "code",
   "execution_count": 12,
   "metadata": {
    "collapsed": true
   },
   "outputs": [],
   "source": [
    "class Network(object):\n",
    "\n",
    "    def __init__(self, sizes):\n",
    "        \"\"\"The list ``sizes`` contains the number of neurons in the\n",
    "        respective layers of the network.  For example, if the list\n",
    "        was [2, 3, 1] then it would be a three-layer network, with the\n",
    "        first layer containing 2 neurons, the second layer 3 neurons,\n",
    "        and the third layer 1 neuron.  The biases and weights for the\n",
    "        network are initialized randomly, using a Gaussian\n",
    "        distribution with mean 0, and variance 1.  Note that the first\n",
    "        layer is assumed to be an input layer, and by convention we\n",
    "        won't set any biases for those neurons, since biases are only\n",
    "        ever used in computing the outputs from later layers.\"\"\"\n",
    "        self.num_layers = len(sizes)\n",
    "        self.sizes = sizes\n",
    "        self.biases = [np.random.randn(y, 1) for y in sizes[1:]]\n",
    "        self.weights = [np.random.randn(y, x)\n",
    "                        for x, y in zip(sizes[:-1], sizes[1:])]"
   ]
  },
  {
   "cell_type": "markdown",
   "metadata": {},
   "source": [
    "The above sets up the Network object and initializes its variables. Each network has a set of biases and weights which we initialize randomly to begin. <br\\>\n",
    "When creating a Network object, you initialize using an array (sizes). The first element in sizes is the input layer (and therefore has no associated bias), and represents the number of input nodes that this network has. Each subsequent element that precedes the final element represents the number of sigmoids in the corresponding hidden layers of the network. The final element in sizes is the number of output sigmoid neurons.<br\\>\n",
    "The biases are in the form of a y x 1 array (vector) of random values between 0 and 1. This initializes the biases to have a random start point for Stochastic Gradient Descent. Each layer of the network (besides the input layer) has an associated bias.<br\\>\n",
    "The weights are in the form of a y x x matrix. Each column of weights in the matrix represents the weights connecting the associated vector with the one following it. "
   ]
  },
  {
   "cell_type": "code",
   "execution_count": 13,
   "metadata": {
    "collapsed": true
   },
   "outputs": [],
   "source": [
    "def sigmoid(z):\n",
    "    # this is the equation for the sigmoid function\n",
    "    return 1.0/(1.0 + np.exp(-z))\n",
    "def sigmoid_prime(z):\n",
    "    \"\"\"Derivative of the sigmoid function.\"\"\"\n",
    "    return sigmoid(z)*(1-sigmoid(z))"
   ]
  },
  {
   "cell_type": "markdown",
   "metadata": {},
   "source": [
    "The above is the sigmoid function and its derivative. sigmoid takes the input (which for our purposes will be $z = w \\cdot a + b$) and applies the sigmoid function, which can be written as: \n",
    "$$ \\sigma (z) \\equiv \\dfrac{1}{1 + e^{-z}} $$ With its derivative being the change in the sigmoid function."
   ]
  },
  {
   "cell_type": "code",
   "execution_count": 14,
   "metadata": {
    "collapsed": true
   },
   "outputs": [],
   "source": [
    "    def feedforward(self, a):\n",
    "        # returns the output for input a\n",
    "        for b, w in zip(self.biases, self.weights):\n",
    "            a = sigmoid(np.dot(w, a) + b)\n",
    "        return a"
   ]
  },
  {
   "cell_type": "markdown",
   "metadata": {},
   "source": [
    "The above is a function in the Network class. It calls the sigmoid function on the $z = w \\cdot a + b$ step function to smooth out the graph and make the output vary from strictly 0 and 1."
   ]
  },
  {
   "cell_type": "code",
   "execution_count": 15,
   "metadata": {
    "collapsed": true
   },
   "outputs": [],
   "source": [
    "    def SGD(self, training_data, epochs, mini_batch_size, eta,\n",
    "            test_data=None):\n",
    "        \"\"\"Train the neural network using mini-batch stochastic\n",
    "        gradient descent.  The ``training_data`` is a list of tuples\n",
    "        ``(x, y)`` representing the training inputs and the desired\n",
    "        outputs.  The other non-optional parameters are\n",
    "        self-explanatory.  If ``test_data`` is provided then the\n",
    "        network will be evaluated against the test data after each\n",
    "        epoch, and partial progress printed out.  This is useful for\n",
    "        tracking progress, but slows things down substantially.\"\"\"\n",
    "\n",
    "        training_data = list(training_data)\n",
    "        n = len(training_data)\n",
    "\n",
    "        if test_data:\n",
    "            test_data = list(test_data)\n",
    "            n_test = len(test_data)\n",
    "\n",
    "        for j in range(epochs):\n",
    "            random.shuffle(training_data)\n",
    "            mini_batches = [\n",
    "                training_data[k:k+mini_batch_size]\n",
    "                for k in range(0, n, mini_batch_size)]\n",
    "            for mini_batch in mini_batches:\n",
    "                self.update_mini_batch(mini_batch, eta)\n",
    "            if test_data:\n",
    "                print(\"Epoch {} : {} / {}\".format(j,self.evaluate(test_data),n_test));\n",
    "            else:\n",
    "                print(\"Epoch {} complete\".format(j))"
   ]
  },
  {
   "cell_type": "markdown",
   "metadata": {},
   "source": [
    "The above is also a part of the Network class, and is the Stochastic Gradient Descent algoritm. Gradient descent is an algorithm that minimizes the cost function of w, b (i.e. gets us closer to the correct solution). Stochastic gradient descent speeds this up by using smaller, randomized mini-batches to determine how to update weights and biases in the next step. <br\\>\n",
    "Each Epoch is a training step in the algorithm <br\\>\n",
    "eta is the learning rate, a small constant that mainitains a downward trajectory for the algorithm (continually making change in C smaller). At the same time, eta affects the size of the change in each training step, so one that is too small would be ineffective as there would be very little change. "
   ]
  },
  {
   "cell_type": "code",
   "execution_count": 16,
   "metadata": {
    "collapsed": true
   },
   "outputs": [],
   "source": [
    "    def update_mini_batch(self, mini_batch, eta):\n",
    "        \"\"\"Update the network's weights and biases by applying\n",
    "        gradient descent using backpropagation to a single mini batch.\n",
    "        The ``mini_batch`` is a list of tuples ``(x, y)``, and ``eta``\n",
    "        is the learning rate.\"\"\"\n",
    "        nabla_b = [np.zeros(b.shape) for b in self.biases]\n",
    "        nabla_w = [np.zeros(w.shape) for w in self.weights]\n",
    "        for x, y in mini_batch:\n",
    "            delta_nabla_b, delta_nabla_w = self.backprop(x, y)\n",
    "            nabla_b = [nb+dnb for nb, dnb in zip(nabla_b, delta_nabla_b)]\n",
    "            nabla_w = [nw+dnw for nw, dnw in zip(nabla_w, delta_nabla_w)]\n",
    "        self.weights = [w-(eta/len(mini_batch))*nw\n",
    "                        for w, nw in zip(self.weights, nabla_w)]\n",
    "        self.biases = [b-(eta/len(mini_batch))*nb\n",
    "                       for b, nb in zip(self.biases, nabla_b)]"
   ]
  },
  {
   "cell_type": "markdown",
   "metadata": {},
   "source": [
    "The above is also part of the Network class. It uses backpropogation to update the weights and biases in the network based on a mini-batch."
   ]
  },
  {
   "cell_type": "code",
   "execution_count": 17,
   "metadata": {
    "collapsed": false
   },
   "outputs": [
    {
     "ename": "IndentationError",
     "evalue": "unindent does not match any outer indentation level (<ipython-input-17-6d61b9b0d145>, line 31)",
     "output_type": "error",
     "traceback": [
      "\u001b[0;36m  File \u001b[0;32m\"<ipython-input-17-6d61b9b0d145>\"\u001b[0;36m, line \u001b[0;32m31\u001b[0m\n\u001b[0;31m    def evaluate(self, test_data):\u001b[0m\n\u001b[0m                                  ^\u001b[0m\n\u001b[0;31mIndentationError\u001b[0m\u001b[0;31m:\u001b[0m unindent does not match any outer indentation level\n"
     ]
    }
   ],
   "source": [
    "def backprop(self, x, y):\n",
    "        nabla_b = [np.zeros(b.shape) for b in self.biases]\n",
    "        nabla_w = [np.zeros(w.shape) for w in self.weights]\n",
    "        # feedforward\n",
    "        activation = x\n",
    "        activations = [x] # list to store all the activations, layer by layer\n",
    "        zs = [] # list to store all the z vectors, layer by layer\n",
    "        for b, w in zip(self.biases, self.weights):\n",
    "            z = np.dot(w, activation)+b\n",
    "            zs.append(z)\n",
    "            activation = sigmoid(z)\n",
    "            activations.append(activation)\n",
    "        # backward pass\n",
    "        delta = self.cost_derivative(activations[-1], y) * \\\n",
    "            sigmoid_prime(zs[-1])\n",
    "        nabla_b[-1] = delta\n",
    "        nabla_w[-1] = np.dot(delta, activations[-2].transpose())\n",
    "        # Note that the variable l in the loop below is used a little\n",
    "        # differently to the notation in Chapter 2 of the book.  Here,\n",
    "        # l = 1 means the last layer of neurons, l = 2 is the\n",
    "        # second-last layer, and so on.  It's a renumbering of the\n",
    "        # scheme in the book, used here to take advantage of the fact\n",
    "        # that Python can use negative indices in lists.\n",
    "        for l in xrange(2, self.num_layers):\n",
    "            z = zs[-l]\n",
    "            sp = sigmoid_prime(z)\n",
    "            delta = np.dot(self.weights[-l+1].transpose(), delta) * sp\n",
    "            nabla_b[-l] = delta\n",
    "            nabla_w[-l] = np.dot(delta, activations[-l-1].transpose())\n",
    "        return (nabla_b, nabla_w)\n",
    "    \n",
    "    def evaluate(self, test_data):\n",
    "        test_results = [(np.argmax(self.feedforward(x)), y)\n",
    "                           for (x, y) in test_data]\n",
    "        return sum(int(x == y) for (x, y) in test_results)\n",
    "    \n",
    "    def cost_derivative(self, output_activations, y):\n",
    "        return (output_activations-y)\n",
    "    \n",
    "        "
   ]
  },
  {
   "cell_type": "markdown",
   "metadata": {},
   "source": [
    "## Part C - Methods"
   ]
  },
  {
   "cell_type": "markdown",
   "metadata": {},
   "source": [
    "We will now use this code and training data from the MNIST data set to create a neural network that can correctly identify hadwritten digits 0-9. For our data, the images of digits are 28x28 pixels in dimension and there are 10 possible types of digit (0-9). Therefore the input layer should always have 28 * 28 = 784 input neurons (one for each pixel) and 10 output neurons (one to represent each digit from 0 to 9)."
   ]
  },
  {
   "cell_type": "markdown",
   "metadata": {},
   "source": [
    "### i. Two-Layer Network"
   ]
  },
  {
   "cell_type": "markdown",
   "metadata": {},
   "source": [
    "In our first pass, we try a network with just an input layer and an output layer:"
   ]
  },
  {
   "cell_type": "code",
   "execution_count": 5,
   "metadata": {
    "collapsed": false
   },
   "outputs": [],
   "source": [
    "# net = network.Network([784, 10])"
   ]
  },
  {
   "cell_type": "markdown",
   "metadata": {},
   "source": [
    "We then perform Stochastic Gradient Descent on the network using 10 epochs, a learning rate of 0.05, and a mini-batch size of 20:"
   ]
  },
  {
   "cell_type": "code",
   "execution_count": 6,
   "metadata": {
    "collapsed": true
   },
   "outputs": [],
   "source": [
    "# net.SGD(training_data, 10, 20, .05, test_data=test_data)"
   ]
  },
  {
   "cell_type": "markdown",
   "metadata": {},
   "source": [
    "After performing this 3 times, we take the best run which is:"
   ]
  },
  {
   "cell_type": "markdown",
   "metadata": {
    "collapsed": true
   },
   "source": [
    "Epoch 0 : 2885 / 10000  \n",
    "Epoch 1 : 3645 / 10000  \n",
    "Epoch 2 : 4048 / 10000  \n",
    "Epoch 3 : 4485 / 10000  \n",
    "Epoch 4 : 4879 / 10000  \n",
    "Epoch 5 : 5278 / 10000  \n",
    "Epoch 6 : 5568 / 10000  \n",
    "Epoch 7 : 5711 / 10000  \n",
    "Epoch 8 : 5826 / 10000  \n",
    "Epoch 9 : 5900 / 10000  "
   ]
  },
  {
   "cell_type": "markdown",
   "metadata": {
    "collapsed": true
   },
   "source": [
    "Next we try doubling the epochs to see if more iterations gets us closer, we also up the learning rate."
   ]
  },
  {
   "cell_type": "code",
   "execution_count": 7,
   "metadata": {
    "collapsed": true
   },
   "outputs": [],
   "source": [
    "# net.SGD(training_data, 20, 20, 1.0, test_data=test_data)"
   ]
  },
  {
   "cell_type": "markdown",
   "metadata": {},
   "source": [
    "Best of 3 runs is:"
   ]
  },
  {
   "cell_type": "markdown",
   "metadata": {},
   "source": [
    "Epoch 0 : 4238 / 10000  \n",
    "Epoch 1 : 4913 / 10000  \n",
    "Epoch 2 : 4938 / 10000  \n",
    "...  \n",
    "Epoch 17 : 6653 / 10000  \n",
    "Epoch 18 : 6670 / 10000  \n",
    "Epoch 19 : 6676 / 10000  "
   ]
  },
  {
   "cell_type": "markdown",
   "metadata": {},
   "source": [
    "### ii. Three-Layer Network"
   ]
  },
  {
   "cell_type": "markdown",
   "metadata": {
    "collapsed": true
   },
   "source": [
    "Now we add another layer with 40 hidden neurons."
   ]
  },
  {
   "cell_type": "code",
   "execution_count": 8,
   "metadata": {
    "collapsed": false
   },
   "outputs": [],
   "source": [
    "# net = network.Network([784, 40, 10])"
   ]
  },
  {
   "cell_type": "markdown",
   "metadata": {},
   "source": [
    "We start with 20 epochs, a learning rate of 2.0, and a mini-batch size of 20."
   ]
  },
  {
   "cell_type": "code",
   "execution_count": 9,
   "metadata": {
    "collapsed": true
   },
   "outputs": [],
   "source": [
    "# net.SGD(training_data, 20, 20, 2.0, test_data=test_data)"
   ]
  },
  {
   "cell_type": "markdown",
   "metadata": {},
   "source": [
    "Best of 3 runs is:"
   ]
  },
  {
   "cell_type": "markdown",
   "metadata": {},
   "source": [
    "Epoch 0 : 8758 / 10000  \n",
    "Epoch 1 : 9029 / 10000  \n",
    "Epoch 2 : 9147 / 10000  \n",
    "...  \n",
    "Epoch 17 : 9450 / 10000  \n",
    "Epoch 18 : 9463 / 10000  \n",
    "Epoch 19 : 9477 / 10000  "
   ]
  },
  {
   "cell_type": "markdown",
   "metadata": {},
   "source": [
    "Now we try doubling the neurons in the hidden layer."
   ]
  },
  {
   "cell_type": "code",
   "execution_count": 10,
   "metadata": {
    "collapsed": true
   },
   "outputs": [],
   "source": [
    "# net = network.Network([784, 80, 10])"
   ]
  },
  {
   "cell_type": "markdown",
   "metadata": {},
   "source": [
    "We use the same epochs, learning rate, and mini-batch size as before."
   ]
  },
  {
   "cell_type": "code",
   "execution_count": 11,
   "metadata": {
    "collapsed": true
   },
   "outputs": [],
   "source": [
    "# net.SGD(training_data, 20, 20, 2.0, test_data=test_data)"
   ]
  },
  {
   "cell_type": "markdown",
   "metadata": {},
   "source": [
    "Best of 3 runs is:"
   ]
  },
  {
   "cell_type": "markdown",
   "metadata": {},
   "source": [
    "Epoch 0 : 7117 / 10000  \n",
    "Epoch 1 : 7364 / 10000  \n",
    "Epoch 2 : 7463 / 10000  \n",
    "...  \n",
    "Epoch 17 : 9523 / 10000  \n",
    "Epoch 18 : 9525 / 10000  \n",
    "Epoch 19 : 9513 / 10000  "
   ]
  },
  {
   "cell_type": "markdown",
   "metadata": {},
   "source": [
    "### iii. Four-Layer Network"
   ]
  },
  {
   "cell_type": "markdown",
   "metadata": {
    "collapsed": true
   },
   "source": [
    "Now we try a 4 layer network with 2 40 neuron hidden layers."
   ]
  },
  {
   "cell_type": "code",
   "execution_count": 18,
   "metadata": {
    "collapsed": true
   },
   "outputs": [],
   "source": [
    "# net = network.Network([784, 40, 40, 10])"
   ]
  },
  {
   "cell_type": "markdown",
   "metadata": {},
   "source": [
    "Again we use the same epochs, learning rate, and mini-batch size as before."
   ]
  },
  {
   "cell_type": "code",
   "execution_count": null,
   "metadata": {
    "collapsed": true
   },
   "outputs": [],
   "source": [
    "# net.SGD(training_data, 20, 20, 2.0, test_data=test_data)"
   ]
  },
  {
   "cell_type": "markdown",
   "metadata": {},
   "source": [
    "Best of 3 runs is:"
   ]
  },
  {
   "cell_type": "markdown",
   "metadata": {},
   "source": [
    "Epoch 0 : 8856 / 10000  \n",
    "Epoch 1 : 9132 / 10000  \n",
    "Epoch 2 : 9260 / 10000  \n",
    "...  \n",
    "Epoch 17 : 9485 / 10000  \n",
    "Epoch 18 : 9478 / 10000  \n",
    "Epoch 19 : 9506 / 10000  "
   ]
  },
  {
   "cell_type": "markdown",
   "metadata": {},
   "source": [
    "## Part D - Results"
   ]
  },
  {
   "cell_type": "markdown",
   "metadata": {},
   "source": [
    "After trying 4 networks, our best result (by a slim margin) was the three-layer network with  784, 80, and 10 nodes in each layer respectively. This outputted: 9513 / 10000 on its best run after 19 epochs. "
   ]
  },
  {
   "cell_type": "code",
   "execution_count": 85,
   "metadata": {
    "collapsed": true
   },
   "outputs": [],
   "source": [
    "def setUpBars(worst_run, middle_run, best_run):\n",
    "    n_groups = 4\n",
    "    index = np.arange(n_groups)\n",
    "    \n",
    "    fig, ax = plt.subplots()\n",
    "\n",
    "    bar_width = 0.25\n",
    "\n",
    "    opacity = 0.4\n",
    "    \n",
    "    rects1 = plt.bar(index, worst_run, bar_width,\n",
    "                 alpha=opacity,\n",
    "                 color='r')\n",
    "\n",
    "    rects2 = plt.bar(index + bar_width, middle_run, bar_width,\n",
    "                 alpha=opacity,\n",
    "                 color='b')\n",
    "\n",
    "    rects2 = plt.bar(index + bar_width * 2, best_run, bar_width,\n",
    "                 alpha=opacity,\n",
    "                 color='g')\n",
    "\n",
    "    \n",
    "    plt.xticks(index + 3 * bar_width / 2, ('[784, 10]', '[784, 40, 10]', '[784, 80, 10]', \n",
    "                                   '[784, 40, 40, 10]'))\n",
    "    \n",
    "    "
   ]
  },
  {
   "cell_type": "code",
   "execution_count": 89,
   "metadata": {
    "collapsed": false,
    "scrolled": false
   },
   "outputs": [
    {
     "data": {
      "image/png": "[encoded data removed]",
      "text/plain": [
       "<matplotlib.figure.Figure at 0x106ff5828>"
      ]
     },
     "metadata": {},
     "output_type": "display_data"
    }
   ],
   "source": [
    "import numpy as np\n",
    "import matplotlib.pyplot as plt\n",
    "\n",
    "worst_run = (4795 / 10000, 9431 / 10000, 7719 / 10000, 9459 / 10000)\n",
    "middle_run = (6560 / 10000, 9452 / 10000, 8609 / 10000, 9467 / 10000)\n",
    "best_run = (6676 / 10000, 9477 / 10000, 9513 / 10000, 9506 / 10000)\n",
    "\n",
    "setUpBars(worst_run, middle_run, best_run)\n",
    "plt.xlabel('Network Input Array')\n",
    "plt.ylabel('Correctness of Each Run')\n",
    "plt.title('Figure 1: Correctness of different Networks with 20 epochs, a learning rate of 2.0, and a mini-batch size of 20')\n",
    "plt.show()   \n"
   ]
  },
  {
   "cell_type": "markdown",
   "metadata": {},
   "source": [
    "Red represents worst run out of 3, blue represents middle, and green represents best."
   ]
  },
  {
   "cell_type": "code",
   "execution_count": 88,
   "metadata": {
    "collapsed": false
   },
   "outputs": [
    {
     "data": {
      "image/png": "[encoded data removed]",
      "text/plain": [
       "<matplotlib.figure.Figure at 0x1126e3400>"
      ]
     },
     "metadata": {},
     "output_type": "display_data"
    }
   ],
   "source": [
    "worst_run = ((4795 - 3343)/10000, (9431 - 8642) / 10000, (7719 - 4922) / 10000, (9459 - 8782) / 10000)\n",
    "middle_run = ((6560 - 4511)/10000, (9452 - 8780) / 10000, (8609 - 6071) / 10000, (9467 - 7931) / 10000)\n",
    "best_run = ((6676 - 4238)/10000, (9477 - 8758) / 10000, (9513 - 7117) / 10000, (9506 - 8856) / 10000)\n",
    "\n",
    "setUpBars(worst_run, middle_run, best_run)\n",
    "plt.xlabel('Network Input Array')\n",
    "plt.ylabel('Difference Between First and Last Epoch')\n",
    "plt.title('Figure 2: First-Last Difference in Networks Using 20 epochs, a learning rate of 2.0, and a mini-batch size of 20')\n",
    "plt.show() "
   ]
  },
  {
   "cell_type": "markdown",
   "metadata": {},
   "source": [
    "Red represents worst run out of 3, blue represents middle, and green represents best."
   ]
  },
  {
   "cell_type": "markdown",
   "metadata": {},
   "source": [
    "# Part E - Discussion"
   ]
  },
  {
   "cell_type": "markdown",
   "metadata": {
    "collapsed": true
   },
   "source": []
  },
  {
   "cell_type": "markdown",
   "metadata": {},
   "source": [
    "## Part F - References"
   ]
  },
  {
   "cell_type": "markdown",
   "metadata": {},
   "source": [
    "Assignment is based on: http://neuralnetworksanddeeplearning.com/chap1.html <br\\>\n",
    "Code is taken from: https://github.com/MichalDanielDobrzanski/DeepLearningPython35"
   ]
  }
 ],
 "metadata": {
  "anaconda-cloud": {},
  "kernelspec": {
   "display_name": "Python [conda root]",
   "language": "python",
   "name": "conda-root-py"
  },
  "language_info": {
   "codemirror_mode": {
    "name": "ipython",
    "version": 3
   },
   "file_extension": ".py",
   "mimetype": "text/x-python",
   "name": "python",
   "nbconvert_exporter": "python",
   "pygments_lexer": "ipython3",
   "version": "3.5.2"
  }
 },
 "nbformat": 4,
 "nbformat_minor": 1
}
